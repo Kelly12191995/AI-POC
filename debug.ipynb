{
 "cells": [
  {
   "cell_type": "code",
   "execution_count": null,
   "id": "df829f20",
   "metadata": {},
   "outputs": [],
   "source": [
    "import sys\n",
    "sys.path.append(\"C:/Users/ca6107029/OneDrive - Bell Canada/2025/Automation/GoogleAI/Agent BI/Agent BI/streamlit_app\")\n",
    "\n",
    "from app_v2 import DigitalSalesReport\n",
    "\n",
    "report = DigitalSalesReport()\n",
    "print(\"Available sheets:\", report.xls.sheet_names)"
   ]
  },
  {
   "cell_type": "code",
   "execution_count": null,
   "id": "522c95a7",
   "metadata": {},
   "outputs": [],
   "source": [
    "!pip list | grep streamlit-aggrid"
   ]
  },
  {
   "cell_type": "code",
   "execution_count": null,
   "id": "5c0278d6",
   "metadata": {},
   "outputs": [],
   "source": [
    "import os\n",
    "import glob\n",
    "import pandas as pd\n",
    "\n",
    "# Find the latest matching file\n",
    "file_list = glob.glob(\"data/Digital Sales report - *.xlsx\")\n",
    "excel_file_path = max(file_list, key=os.path.getctime) if file_list else None\n",
    "\n",
    "if excel_file_path:\n",
    "    # Load the Excel file\n",
    "    excel_file = pd.ExcelFile(excel_file_path)\n",
    "    print(\"Available sheets:\", excel_file.sheet_names)\n",
    "else:\n",
    "    print(\"No matching Excel files found.\")\n"
   ]
  },
  {
   "cell_type": "code",
   "execution_count": null,
   "id": "1d038fbc",
   "metadata": {},
   "outputs": [],
   "source": [
    "from openpyxl import load_workbook\n",
    "import pandas as pd\n",
    "\n",
    "# Load the workbook\n",
    "\n",
    "file_path = r\"C:\\temp\\Wireline Digital Report Saturday, June 7, 2025.xlsx\"\n",
    "\n",
    "workbook = load_workbook(file_path)\n",
    "\n",
    "# Get available sheets\n",
    "sheet_names = workbook.sheetnames  \n",
    "print(\"Sheets detected:\", sheet_names)  # Debugging check\n",
    "\n",
    "# Default to first sheet\n",
    "default_sheet = sheet_names[0]\n",
    "sheet_data = workbook[default_sheet]\n",
    "\n",
    "# Convert sheet data to Pandas DataFrame\n",
    "data = sheet_data.values\n",
    "columns = next(data)  # First row as column names\n",
    "df = pd.DataFrame(data, columns=columns)\n",
    "\n",
    "print(\"Data from sheet:\", default_sheet)\n",
    "print(df)\n"
   ]
  },
  {
   "cell_type": "code",
   "execution_count": null,
   "id": "0ee2f8c1",
   "metadata": {},
   "outputs": [],
   "source": [
    "import os\n",
    "print(\"Files in C:\\\\temp:\", os.listdir(r\"C:\\temp\"))\n",
    "\n",
    "\n",
    "file_path = r\"C:\\temp\\Wireline Digital Report Saturday, June 7, 2025.xlsx\"\n",
    "\n",
    "print(\"File exists:\", os.path.exists(file_path))\n",
    "\n",
    "file_name = \"Wireline Digital Report Saturday, June 7, 2025.xlsx\"\n",
    "print(\"File name length:\", len(file_name))\n",
    "\n",
    "file_name = \"Wireline Digital Report Saturday, June 7, 2025.xlsx\"\n",
    "print(\"File name representation:\", repr(file_name))\n",
    "\n",
    "\n",
    "file_path = r\"C:\\temp\\Wireline Digital Report Saturday, June 7, 2025.xlsx\"\n",
    "print(\"File is readable:\", os.access(file_path, os.R_OK))\n",
    "\n",
    "from openpyxl import load_workbook\n",
    "\n",
    "file_path = r\"C:\\temp\\Wireline Digital Report Saturday, June 7, 2025.xlsx\"\n",
    "\n",
    "try:\n",
    "    workbook = load_workbook(file_path, read_only=True)\n",
    "    print(\"Workbook successfully loaded in read-only mode.\")\n",
    "except FileNotFoundError:\n",
    "    print(\"File still not found.\")\n",
    "except PermissionError:\n",
    "    print(\"Permission error - can't read the file.\")\n"
   ]
  },
  {
   "cell_type": "code",
   "execution_count": null,
   "id": "8bb980e1",
   "metadata": {},
   "outputs": [],
   "source": [
    "from pathlib import Path\n",
    "from openpyxl import load_workbook\n",
    "import pandas as pd\n",
    "\n",
    "# Define file path\n",
    "file_path = Path(r\"C:\\Users\\ca6107029\\OneDrive - Bell Canada\\2025\\Project based\\New Wireline Digital Report\\New Report Final\\REPO\\New Wireline.xlsx\")\n",
    "\n",
    "# Check if the file exists\n",
    "print(\"File exists:\", file_path.exists())  # Should return True\n",
    "\n",
    "\n",
    "import logging\n",
    "\n",
    "# Configure logger\n",
    "logger = logging.getLogger(__name__)\n",
    "\n",
    "# Check if file exists\n",
    "if file_path.exists():\n",
    "    if file_path.suffix in ['.xlsx', '.xls']:\n",
    "        df = pd.read_excel(file_path, header=2)  # Start from row 3 (0-indexed)\n",
    "    elif file_path.suffix == '.csv':\n",
    "        df = pd.read_csv(file_path)\n",
    "    else:\n",
    "        raise ValueError(f\"Unsupported file format: {file_path.suffix}\")\n",
    "    \n",
    "    logger.info(f\"Successfully loaded {file_path} with {len(df)} rows.\")\n",
    "else:\n",
    "    logger.error(f\"File {file_path} not found.\")\n",
    "    df = None\n",
    "\n",
    "# Display DataFrame if successfully loaded\n",
    "if df is not None:\n",
    "    print(df.head())\n"
   ]
  },
  {
   "cell_type": "code",
   "execution_count": null,
   "id": "44f626a8",
   "metadata": {},
   "outputs": [],
   "source": [
    "import pandas as pd\n",
    "from pathlib import Path\n",
    "\n",
    "# Define file path\n",
    "file_path = Path(r\"C:\\Users\\ca6107029\\OneDrive - Bell Canada\\2025\\Project based\\New Wireline Digital Report\\New Report Final\\REPO\\New Wireline.xlsx\")\n",
    "\n",
    "from openpyxl import load_workbook\n",
    "import datetime\n",
    "\n",
    "workbook = load_workbook(file_path)\n",
    "\n",
    "# Fix datetime issues\n",
    "for sheet in workbook.sheetnames:\n",
    "    ws = workbook[sheet]\n",
    "    for row in ws.iter_rows():\n",
    "        for cell in row:\n",
    "            if isinstance(cell.value, datetime.date) and not isinstance(cell.value, datetime.datetime):\n",
    "                cell.value = datetime.datetime.combine(cell.value, datetime.time.min)  # Convert date to datetime\n",
    "\n",
    "print(\"Workbook successfully loaded after fixing date issues!\")\n",
    "\n",
    "# # Load all sheets dynamically\n",
    "# excel_data = pd.ExcelFile(file_path)\n",
    "# sheet_names = excel_data.sheet_names  # Get list of sheets\n",
    "\n",
    "# # Dictionary to store cleaned data per sheet\n",
    "# dataframes = {}\n",
    "\n",
    "# for sheet in sheet_names:\n",
    "#     # Load sheet dynamically, allowing Pandas to auto-detect headers\n",
    "#     df = pd.read_excel(excel_data, sheet_name=sheet)\n",
    "    \n",
    "#     # Auto-detect the header row\n",
    "#     first_valid_index = df.first_valid_index()\n",
    "    \n",
    "#     # Re-load with correct header if needed\n",
    "#     if first_valid_index is not None:\n",
    "#         df = pd.read_excel(excel_data, sheet_name=sheet, header=first_valid_index)\n",
    "    \n",
    "#     # Convert any datetime-like columns\n",
    "#     for col in df.columns:\n",
    "#         if pd.api.types.is_object_dtype(df[col]):  # Check if it's a general object column\n",
    "#             try:\n",
    "#                 df[col] = pd.to_datetime(df[col], errors='coerce')  # Convert dates safely\n",
    "#             except:\n",
    "#                 pass  # Ignore if conversion fails\n",
    "    \n",
    "#     # Store cleaned data\n",
    "#     dataframes[sheet] = df\n",
    "\n",
    "# # Print results\n",
    "# for sheet, df in dataframes.items():\n",
    "#     print(f\"\\nSheet: {sheet}\")\n",
    "#     print(df.head())  # Show first rows per sheet\n"
   ]
  },
  {
   "cell_type": "code",
   "execution_count": 33,
   "id": "ecb124a4",
   "metadata": {},
   "outputs": [],
   "source": [
    "df = pd.read_excel(\"data/Digital Sales Daily Raw.xlsx\")"
   ]
  },
  {
   "cell_type": "code",
   "execution_count": 35,
   "id": "ca5d937e",
   "metadata": {},
   "outputs": [
    {
     "ename": "ValueError",
     "evalue": "Invalid file path or buffer object type: <class 'list'>",
     "output_type": "error",
     "traceback": [
      "\u001b[1;31m---------------------------------------------------------------------------\u001b[0m",
      "\u001b[1;31mValueError\u001b[0m                                Traceback (most recent call last)",
      "Cell \u001b[1;32mIn[35], line 3\u001b[0m\n\u001b[0;32m      1\u001b[0m \u001b[38;5;28;01mimport\u001b[39;00m \u001b[38;5;21;01mglob\u001b[39;00m\n\u001b[0;32m      2\u001b[0m file_path \u001b[38;5;241m=\u001b[39m glob\u001b[38;5;241m.\u001b[39mglob(\u001b[38;5;124m\"\u001b[39m\u001b[38;5;124mdata/Digital Sales report*.xlsx\u001b[39m\u001b[38;5;124m\"\u001b[39m)\n\u001b[1;32m----> 3\u001b[0m xls \u001b[38;5;241m=\u001b[39m pd\u001b[38;5;241m.\u001b[39mExcelFile(file_path)\n",
      "File \u001b[1;32mc:\\Users\\ca6107029\\AppData\\Local\\anaconda3\\Lib\\site-packages\\pandas\\io\\excel\\_base.py:1550\u001b[0m, in \u001b[0;36mExcelFile.__init__\u001b[1;34m(self, path_or_buffer, engine, storage_options, engine_kwargs)\u001b[0m\n\u001b[0;32m   1548\u001b[0m     ext \u001b[38;5;241m=\u001b[39m \u001b[38;5;124m\"\u001b[39m\u001b[38;5;124mxls\u001b[39m\u001b[38;5;124m\"\u001b[39m\n\u001b[0;32m   1549\u001b[0m \u001b[38;5;28;01melse\u001b[39;00m:\n\u001b[1;32m-> 1550\u001b[0m     ext \u001b[38;5;241m=\u001b[39m inspect_excel_format(\n\u001b[0;32m   1551\u001b[0m         content_or_path\u001b[38;5;241m=\u001b[39mpath_or_buffer, storage_options\u001b[38;5;241m=\u001b[39mstorage_options\n\u001b[0;32m   1552\u001b[0m     )\n\u001b[0;32m   1553\u001b[0m     \u001b[38;5;28;01mif\u001b[39;00m ext \u001b[38;5;129;01mis\u001b[39;00m \u001b[38;5;28;01mNone\u001b[39;00m:\n\u001b[0;32m   1554\u001b[0m         \u001b[38;5;28;01mraise\u001b[39;00m \u001b[38;5;167;01mValueError\u001b[39;00m(\n\u001b[0;32m   1555\u001b[0m             \u001b[38;5;124m\"\u001b[39m\u001b[38;5;124mExcel file format cannot be determined, you must specify \u001b[39m\u001b[38;5;124m\"\u001b[39m\n\u001b[0;32m   1556\u001b[0m             \u001b[38;5;124m\"\u001b[39m\u001b[38;5;124man engine manually.\u001b[39m\u001b[38;5;124m\"\u001b[39m\n\u001b[0;32m   1557\u001b[0m         )\n",
      "File \u001b[1;32mc:\\Users\\ca6107029\\AppData\\Local\\anaconda3\\Lib\\site-packages\\pandas\\io\\excel\\_base.py:1402\u001b[0m, in \u001b[0;36minspect_excel_format\u001b[1;34m(content_or_path, storage_options)\u001b[0m\n\u001b[0;32m   1399\u001b[0m \u001b[38;5;28;01mif\u001b[39;00m \u001b[38;5;28misinstance\u001b[39m(content_or_path, \u001b[38;5;28mbytes\u001b[39m):\n\u001b[0;32m   1400\u001b[0m     content_or_path \u001b[38;5;241m=\u001b[39m BytesIO(content_or_path)\n\u001b[1;32m-> 1402\u001b[0m \u001b[38;5;28;01mwith\u001b[39;00m get_handle(\n\u001b[0;32m   1403\u001b[0m     content_or_path, \u001b[38;5;124m\"\u001b[39m\u001b[38;5;124mrb\u001b[39m\u001b[38;5;124m\"\u001b[39m, storage_options\u001b[38;5;241m=\u001b[39mstorage_options, is_text\u001b[38;5;241m=\u001b[39m\u001b[38;5;28;01mFalse\u001b[39;00m\n\u001b[0;32m   1404\u001b[0m ) \u001b[38;5;28;01mas\u001b[39;00m handle:\n\u001b[0;32m   1405\u001b[0m     stream \u001b[38;5;241m=\u001b[39m handle\u001b[38;5;241m.\u001b[39mhandle\n\u001b[0;32m   1406\u001b[0m     stream\u001b[38;5;241m.\u001b[39mseek(\u001b[38;5;241m0\u001b[39m)\n",
      "File \u001b[1;32mc:\\Users\\ca6107029\\AppData\\Local\\anaconda3\\Lib\\site-packages\\pandas\\io\\common.py:728\u001b[0m, in \u001b[0;36mget_handle\u001b[1;34m(path_or_buf, mode, encoding, compression, memory_map, is_text, errors, storage_options)\u001b[0m\n\u001b[0;32m    725\u001b[0m     codecs\u001b[38;5;241m.\u001b[39mlookup_error(errors)\n\u001b[0;32m    727\u001b[0m \u001b[38;5;66;03m# open URLs\u001b[39;00m\n\u001b[1;32m--> 728\u001b[0m ioargs \u001b[38;5;241m=\u001b[39m _get_filepath_or_buffer(\n\u001b[0;32m    729\u001b[0m     path_or_buf,\n\u001b[0;32m    730\u001b[0m     encoding\u001b[38;5;241m=\u001b[39mencoding,\n\u001b[0;32m    731\u001b[0m     compression\u001b[38;5;241m=\u001b[39mcompression,\n\u001b[0;32m    732\u001b[0m     mode\u001b[38;5;241m=\u001b[39mmode,\n\u001b[0;32m    733\u001b[0m     storage_options\u001b[38;5;241m=\u001b[39mstorage_options,\n\u001b[0;32m    734\u001b[0m )\n\u001b[0;32m    736\u001b[0m handle \u001b[38;5;241m=\u001b[39m ioargs\u001b[38;5;241m.\u001b[39mfilepath_or_buffer\n\u001b[0;32m    737\u001b[0m handles: \u001b[38;5;28mlist\u001b[39m[BaseBuffer]\n",
      "File \u001b[1;32mc:\\Users\\ca6107029\\AppData\\Local\\anaconda3\\Lib\\site-packages\\pandas\\io\\common.py:472\u001b[0m, in \u001b[0;36m_get_filepath_or_buffer\u001b[1;34m(filepath_or_buffer, encoding, compression, mode, storage_options)\u001b[0m\n\u001b[0;32m    468\u001b[0m \u001b[38;5;28;01mif\u001b[39;00m \u001b[38;5;129;01mnot\u001b[39;00m (\n\u001b[0;32m    469\u001b[0m     \u001b[38;5;28mhasattr\u001b[39m(filepath_or_buffer, \u001b[38;5;124m\"\u001b[39m\u001b[38;5;124mread\u001b[39m\u001b[38;5;124m\"\u001b[39m) \u001b[38;5;129;01mor\u001b[39;00m \u001b[38;5;28mhasattr\u001b[39m(filepath_or_buffer, \u001b[38;5;124m\"\u001b[39m\u001b[38;5;124mwrite\u001b[39m\u001b[38;5;124m\"\u001b[39m)\n\u001b[0;32m    470\u001b[0m ):\n\u001b[0;32m    471\u001b[0m     msg \u001b[38;5;241m=\u001b[39m \u001b[38;5;124mf\u001b[39m\u001b[38;5;124m\"\u001b[39m\u001b[38;5;124mInvalid file path or buffer object type: \u001b[39m\u001b[38;5;132;01m{\u001b[39;00m\u001b[38;5;28mtype\u001b[39m(filepath_or_buffer)\u001b[38;5;132;01m}\u001b[39;00m\u001b[38;5;124m\"\u001b[39m\n\u001b[1;32m--> 472\u001b[0m     \u001b[38;5;28;01mraise\u001b[39;00m \u001b[38;5;167;01mValueError\u001b[39;00m(msg)\n\u001b[0;32m    474\u001b[0m \u001b[38;5;28;01mreturn\u001b[39;00m IOArgs(\n\u001b[0;32m    475\u001b[0m     filepath_or_buffer\u001b[38;5;241m=\u001b[39mfilepath_or_buffer,\n\u001b[0;32m    476\u001b[0m     encoding\u001b[38;5;241m=\u001b[39mencoding,\n\u001b[1;32m   (...)\u001b[0m\n\u001b[0;32m    479\u001b[0m     mode\u001b[38;5;241m=\u001b[39mmode,\n\u001b[0;32m    480\u001b[0m )\n",
      "\u001b[1;31mValueError\u001b[0m: Invalid file path or buffer object type: <class 'list'>"
     ]
    }
   ],
   "source": [
    "import glob\n",
    "file_path = glob.glob(\"data/Digital Sales report*.xlsx\")\n",
    "xls = pd.ExcelFile(file_path)"
   ]
  },
  {
   "cell_type": "code",
   "execution_count": null,
   "id": "e055b4e3",
   "metadata": {},
   "outputs": [],
   "source": [
    "with open(\"data/Digital Sales Daily Raw.csv\", \"r\", encoding=\"ISO-8859-1\") as f:\n",
    "    for i, line in enumerate(f):\n",
    "        if i < 20:  # Print first 20 lines\n",
    "            print(i, line.strip())  "
   ]
  },
  {
   "cell_type": "code",
   "execution_count": 32,
   "id": "8a8e3819",
   "metadata": {},
   "outputs": [
    {
     "name": "stdout",
     "output_type": "stream",
     "text": [
      "File extension: .csv\n"
     ]
    }
   ],
   "source": [
    "import os\n",
    "\n",
    "file_path = \"data/Digital Sales Daily Raw.csv\"  # Adjust this to your actual file path\n",
    "print(f\"File extension: {os.path.splitext(file_path)[1]}\")  # Shows \".csv\", \".xlsx\", etc.\n"
   ]
  }
 ],
 "metadata": {
  "kernelspec": {
   "display_name": "base",
   "language": "python",
   "name": "python3"
  },
  "language_info": {
   "codemirror_mode": {
    "name": "ipython",
    "version": 3
   },
   "file_extension": ".py",
   "mimetype": "text/x-python",
   "name": "python",
   "nbconvert_exporter": "python",
   "pygments_lexer": "ipython3",
   "version": "3.12.7"
  }
 },
 "nbformat": 4,
 "nbformat_minor": 5
}
